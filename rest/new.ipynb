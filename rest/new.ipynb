{
 "metadata": {
  "language_info": {
   "codemirror_mode": {
    "name": "ipython",
    "version": 3
   },
   "file_extension": ".py",
   "mimetype": "text/x-python",
   "name": "python",
   "nbconvert_exporter": "python",
   "pygments_lexer": "ipython3",
   "version": "3.8.2"
  },
  "orig_nbformat": 2,
  "kernelspec": {
   "name": "python382jvsc74a57bd031f2aee4e71d21fbe5cf8b01ff0e069b9275f58929596ceb00d14d90e3e16cd6",
   "display_name": "Python 3.8.2 64-bit"
  },
  "metadata": {
   "interpreter": {
    "hash": "31f2aee4e71d21fbe5cf8b01ff0e069b9275f58929596ceb00d14d90e3e16cd6"
   }
  }
 },
 "nbformat": 4,
 "nbformat_minor": 2,
 "cells": [
  {
   "cell_type": "code",
   "execution_count": 128,
   "metadata": {},
   "outputs": [],
   "source": [
    "import praw\n",
    "import pandas as pd\n",
    "import requests\n",
    "import json\n",
    "import time"
   ]
  },
  {
   "cell_type": "code",
   "execution_count": 2,
   "metadata": {},
   "outputs": [],
   "source": [
    "reddit = praw.Reddit(client_id='Oj-AWnzeqyEihQ',\n",
    "                    client_secret='EwTiahdTqVCMIFZnRkSTYnJJYZZjzQ',\n",
    "                    user_agent='test',\n",
    "                    username='MrDenkoV',\n",
    "                    password='Blyskavica99')"
   ]
  },
  {
   "cell_type": "code",
   "execution_count": 12,
   "metadata": {},
   "outputs": [
    {
     "output_type": "execute_result",
     "data": {
      "text/plain": [
       "941"
      ]
     },
     "metadata": {},
     "execution_count": 12
    }
   ],
   "source": [
    "len(list(reddit.user.me().upvoted(limit=1000)))"
   ]
  },
  {
   "cell_type": "code",
   "execution_count": 57,
   "metadata": {},
   "outputs": [],
   "source": [
    "h3h3 = reddit.subreddit('h3h3productions')"
   ]
  },
  {
   "cell_type": "code",
   "execution_count": 72,
   "metadata": {},
   "outputs": [
    {
     "output_type": "execute_result",
     "data": {
      "text/plain": [
       "['MESSAGE_PREFIX',\n",
       " 'STR_FIELD',\n",
       " 'VALID_TIME_FILTERS',\n",
       " '__class__',\n",
       " '__delattr__',\n",
       " '__dict__',\n",
       " '__dir__',\n",
       " '__doc__',\n",
       " '__eq__',\n",
       " '__format__',\n",
       " '__ge__',\n",
       " '__getattr__',\n",
       " '__getattribute__',\n",
       " '__gt__',\n",
       " '__hash__',\n",
       " '__init__',\n",
       " '__init_subclass__',\n",
       " '__le__',\n",
       " '__lt__',\n",
       " '__module__',\n",
       " '__ne__',\n",
       " '__new__',\n",
       " '__reduce__',\n",
       " '__reduce_ex__',\n",
       " '__repr__',\n",
       " '__setattr__',\n",
       " '__sizeof__',\n",
       " '__str__',\n",
       " '__subclasshook__',\n",
       " '__weakref__',\n",
       " '_convert_to_fancypants',\n",
       " '_create_or_update',\n",
       " '_fetch',\n",
       " '_fetch_data',\n",
       " '_fetch_info',\n",
       " '_fetched',\n",
       " '_kind',\n",
       " '_parse_xml_response',\n",
       " '_path',\n",
       " '_reddit',\n",
       " '_reset_attributes',\n",
       " '_safely_add_arguments',\n",
       " '_submission_class',\n",
       " '_submit_media',\n",
       " '_subreddit_collections_class',\n",
       " '_subreddit_list',\n",
       " '_upload_inline_media',\n",
       " '_upload_media',\n",
       " '_url_parts',\n",
       " '_validate_gallery',\n",
       " '_validate_inline_media',\n",
       " '_validate_time_filter',\n",
       " 'accounts_active',\n",
       " 'accounts_active_is_fuzzed',\n",
       " 'active_user_count',\n",
       " 'advertiser_category',\n",
       " 'all_original_content',\n",
       " 'allow_discovery',\n",
       " 'allow_galleries',\n",
       " 'allow_images',\n",
       " 'allow_polls',\n",
       " 'allow_predictions',\n",
       " 'allow_predictions_tournament',\n",
       " 'allow_videogifs',\n",
       " 'allow_videos',\n",
       " 'banned',\n",
       " 'banner_background_color',\n",
       " 'banner_background_image',\n",
       " 'banner_img',\n",
       " 'banner_size',\n",
       " 'can_assign_link_flair',\n",
       " 'can_assign_user_flair',\n",
       " 'collapse_deleted_comments',\n",
       " 'collections',\n",
       " 'comment_score_hide_mins',\n",
       " 'comments',\n",
       " 'community_icon',\n",
       " 'community_reviewed',\n",
       " 'contributor',\n",
       " 'controversial',\n",
       " 'created',\n",
       " 'created_utc',\n",
       " 'description',\n",
       " 'description_html',\n",
       " 'disable_contributor_requests',\n",
       " 'display_name',\n",
       " 'display_name_prefixed',\n",
       " 'emoji',\n",
       " 'emojis_custom_size',\n",
       " 'emojis_enabled',\n",
       " 'filters',\n",
       " 'flair',\n",
       " 'free_form_reports',\n",
       " 'fullname',\n",
       " 'gilded',\n",
       " 'has_menu_widget',\n",
       " 'header_img',\n",
       " 'header_size',\n",
       " 'header_title',\n",
       " 'hide_ads',\n",
       " 'hot',\n",
       " 'icon_img',\n",
       " 'icon_size',\n",
       " 'id',\n",
       " 'is_crosspostable_subreddit',\n",
       " 'is_enrolled_in_new_modmail',\n",
       " 'key_color',\n",
       " 'lang',\n",
       " 'link_flair_enabled',\n",
       " 'link_flair_position',\n",
       " 'message',\n",
       " 'mobile_banner_image',\n",
       " 'mod',\n",
       " 'moderator',\n",
       " 'modmail',\n",
       " 'muted',\n",
       " 'name',\n",
       " 'new',\n",
       " 'notification_level',\n",
       " 'original_content_tag_enabled',\n",
       " 'over18',\n",
       " 'parse',\n",
       " 'post_requirements',\n",
       " 'prediction_leaderboard_entry_type',\n",
       " 'primary_color',\n",
       " 'public_description',\n",
       " 'public_description_html',\n",
       " 'public_traffic',\n",
       " 'quaran',\n",
       " 'quarantine',\n",
       " 'random',\n",
       " 'random_rising',\n",
       " 'restrict_commenting',\n",
       " 'restrict_posting',\n",
       " 'rising',\n",
       " 'rules',\n",
       " 'search',\n",
       " 'show_media',\n",
       " 'show_media_preview',\n",
       " 'spoilers_enabled',\n",
       " 'sticky',\n",
       " 'stream',\n",
       " 'stylesheet',\n",
       " 'submission_type',\n",
       " 'submit',\n",
       " 'submit_gallery',\n",
       " 'submit_image',\n",
       " 'submit_link_label',\n",
       " 'submit_poll',\n",
       " 'submit_text',\n",
       " 'submit_text_html',\n",
       " 'submit_text_label',\n",
       " 'submit_video',\n",
       " 'subreddit_type',\n",
       " 'subscribe',\n",
       " 'subscribers',\n",
       " 'suggested_comment_sort',\n",
       " 'title',\n",
       " 'top',\n",
       " 'traffic',\n",
       " 'unsubscribe',\n",
       " 'url',\n",
       " 'user_can_flair_in_sr',\n",
       " 'user_flair_background_color',\n",
       " 'user_flair_css_class',\n",
       " 'user_flair_enabled_in_sr',\n",
       " 'user_flair_position',\n",
       " 'user_flair_richtext',\n",
       " 'user_flair_template_id',\n",
       " 'user_flair_text',\n",
       " 'user_flair_text_color',\n",
       " 'user_flair_type',\n",
       " 'user_has_favorited',\n",
       " 'user_is_banned',\n",
       " 'user_is_contributor',\n",
       " 'user_is_moderator',\n",
       " 'user_is_muted',\n",
       " 'user_is_subscriber',\n",
       " 'user_sr_flair_enabled',\n",
       " 'user_sr_theme_enabled',\n",
       " 'videostream_links_count',\n",
       " 'whitelist_status',\n",
       " 'widgets',\n",
       " 'wiki',\n",
       " 'wiki_enabled',\n",
       " 'wls']"
      ]
     },
     "metadata": {},
     "execution_count": 72
    }
   ],
   "source": [
    "dir(h3h3)"
   ]
  },
  {
   "cell_type": "code",
   "execution_count": 68,
   "metadata": {},
   "outputs": [],
   "source": [
    "me = reddit.user.me()\n",
    "# print(me.title)\n",
    "# print(me.__dict__.keys())"
   ]
  },
  {
   "cell_type": "code",
   "execution_count": 30,
   "metadata": {},
   "outputs": [],
   "source": [
    "all_ups = list(reddit.user.me().upvoted(limit=None))"
   ]
  },
  {
   "cell_type": "code",
   "execution_count": 31,
   "metadata": {},
   "outputs": [
    {
     "output_type": "execute_result",
     "data": {
      "text/plain": [
       "941"
      ]
     },
     "metadata": {},
     "execution_count": 31
    }
   ],
   "source": [
    "len(all_ups)"
   ]
  },
  {
   "cell_type": "code",
   "execution_count": 80,
   "metadata": {},
   "outputs": [
    {
     "output_type": "stream",
     "name": "stdout",
     "text": [
      "okay hear me out- https://i.redd.it/wk73c4gpim471.jpg\nlol https://i.redd.it/qnyv4vgfnuw61.jpg\nTAKE ME BACK 😭😭😭 https://i.redd.it/huzvuqay4ew61.jpg\nTheo looking a little grumpy today https://i.redd.it/0j958x4f9es61.png\nMe and my friends use this in our group chat when it's appropriate so I'd like to share it with you guys https://i.redd.it/zep41xui6li61.png\nan actual tweet from ringo https://i.redd.it/fbnoqv2y8ag61.jpg\n"
     ]
    }
   ],
   "source": [
    "for up in all_ups:\n",
    "    if up.subreddit==h3h3:\n",
    "        # print(dir(up))\n",
    "        print(up.title, up.url)\n",
    "        # break"
   ]
  },
  {
   "cell_type": "code",
   "execution_count": null,
   "metadata": {},
   "outputs": [],
   "source": [
    "for up in h3h3."
   ]
  },
  {
   "cell_type": "code",
   "execution_count": 81,
   "metadata": {},
   "outputs": [
    {
     "output_type": "execute_result",
     "data": {
      "text/plain": [
       "['MESSAGE_PREFIX',\n",
       " 'STR_FIELD',\n",
       " 'VALID_TIME_FILTERS',\n",
       " '__class__',\n",
       " '__delattr__',\n",
       " '__dict__',\n",
       " '__dir__',\n",
       " '__doc__',\n",
       " '__eq__',\n",
       " '__format__',\n",
       " '__ge__',\n",
       " '__getattr__',\n",
       " '__getattribute__',\n",
       " '__gt__',\n",
       " '__hash__',\n",
       " '__init__',\n",
       " '__init_subclass__',\n",
       " '__le__',\n",
       " '__lt__',\n",
       " '__module__',\n",
       " '__ne__',\n",
       " '__new__',\n",
       " '__reduce__',\n",
       " '__reduce_ex__',\n",
       " '__repr__',\n",
       " '__setattr__',\n",
       " '__sizeof__',\n",
       " '__str__',\n",
       " '__subclasshook__',\n",
       " '__weakref__',\n",
       " '_convert_to_fancypants',\n",
       " '_create_or_update',\n",
       " '_fetch',\n",
       " '_fetch_data',\n",
       " '_fetch_info',\n",
       " '_fetched',\n",
       " '_kind',\n",
       " '_parse_xml_response',\n",
       " '_path',\n",
       " '_reddit',\n",
       " '_reset_attributes',\n",
       " '_safely_add_arguments',\n",
       " '_submission_class',\n",
       " '_submit_media',\n",
       " '_subreddit_collections_class',\n",
       " '_subreddit_list',\n",
       " '_upload_inline_media',\n",
       " '_upload_media',\n",
       " '_url_parts',\n",
       " '_validate_gallery',\n",
       " '_validate_inline_media',\n",
       " '_validate_time_filter',\n",
       " 'accounts_active',\n",
       " 'accounts_active_is_fuzzed',\n",
       " 'active_user_count',\n",
       " 'advertiser_category',\n",
       " 'all_original_content',\n",
       " 'allow_discovery',\n",
       " 'allow_galleries',\n",
       " 'allow_images',\n",
       " 'allow_polls',\n",
       " 'allow_predictions',\n",
       " 'allow_predictions_tournament',\n",
       " 'allow_videogifs',\n",
       " 'allow_videos',\n",
       " 'banned',\n",
       " 'banner_background_color',\n",
       " 'banner_background_image',\n",
       " 'banner_img',\n",
       " 'banner_size',\n",
       " 'can_assign_link_flair',\n",
       " 'can_assign_user_flair',\n",
       " 'collapse_deleted_comments',\n",
       " 'collections',\n",
       " 'comment_score_hide_mins',\n",
       " 'comments',\n",
       " 'community_icon',\n",
       " 'community_reviewed',\n",
       " 'contributor',\n",
       " 'controversial',\n",
       " 'created',\n",
       " 'created_utc',\n",
       " 'description',\n",
       " 'description_html',\n",
       " 'disable_contributor_requests',\n",
       " 'display_name',\n",
       " 'display_name_prefixed',\n",
       " 'emoji',\n",
       " 'emojis_custom_size',\n",
       " 'emojis_enabled',\n",
       " 'filters',\n",
       " 'flair',\n",
       " 'free_form_reports',\n",
       " 'fullname',\n",
       " 'gilded',\n",
       " 'has_menu_widget',\n",
       " 'header_img',\n",
       " 'header_size',\n",
       " 'header_title',\n",
       " 'hide_ads',\n",
       " 'hot',\n",
       " 'icon_img',\n",
       " 'icon_size',\n",
       " 'id',\n",
       " 'is_crosspostable_subreddit',\n",
       " 'is_enrolled_in_new_modmail',\n",
       " 'key_color',\n",
       " 'lang',\n",
       " 'link_flair_enabled',\n",
       " 'link_flair_position',\n",
       " 'message',\n",
       " 'mobile_banner_image',\n",
       " 'mod',\n",
       " 'moderator',\n",
       " 'modmail',\n",
       " 'muted',\n",
       " 'name',\n",
       " 'new',\n",
       " 'notification_level',\n",
       " 'original_content_tag_enabled',\n",
       " 'over18',\n",
       " 'parse',\n",
       " 'post_requirements',\n",
       " 'prediction_leaderboard_entry_type',\n",
       " 'primary_color',\n",
       " 'public_description',\n",
       " 'public_description_html',\n",
       " 'public_traffic',\n",
       " 'quaran',\n",
       " 'quarantine',\n",
       " 'random',\n",
       " 'random_rising',\n",
       " 'restrict_commenting',\n",
       " 'restrict_posting',\n",
       " 'rising',\n",
       " 'rules',\n",
       " 'search',\n",
       " 'show_media',\n",
       " 'show_media_preview',\n",
       " 'spoilers_enabled',\n",
       " 'sticky',\n",
       " 'stream',\n",
       " 'stylesheet',\n",
       " 'submission_type',\n",
       " 'submit',\n",
       " 'submit_gallery',\n",
       " 'submit_image',\n",
       " 'submit_link_label',\n",
       " 'submit_poll',\n",
       " 'submit_text',\n",
       " 'submit_text_html',\n",
       " 'submit_text_label',\n",
       " 'submit_video',\n",
       " 'subreddit_type',\n",
       " 'subscribe',\n",
       " 'subscribers',\n",
       " 'suggested_comment_sort',\n",
       " 'title',\n",
       " 'top',\n",
       " 'traffic',\n",
       " 'unsubscribe',\n",
       " 'url',\n",
       " 'user_can_flair_in_sr',\n",
       " 'user_flair_background_color',\n",
       " 'user_flair_css_class',\n",
       " 'user_flair_enabled_in_sr',\n",
       " 'user_flair_position',\n",
       " 'user_flair_richtext',\n",
       " 'user_flair_template_id',\n",
       " 'user_flair_text',\n",
       " 'user_flair_text_color',\n",
       " 'user_flair_type',\n",
       " 'user_has_favorited',\n",
       " 'user_is_banned',\n",
       " 'user_is_contributor',\n",
       " 'user_is_moderator',\n",
       " 'user_is_muted',\n",
       " 'user_is_subscriber',\n",
       " 'user_sr_flair_enabled',\n",
       " 'user_sr_theme_enabled',\n",
       " 'videostream_links_count',\n",
       " 'whitelist_status',\n",
       " 'widgets',\n",
       " 'wiki',\n",
       " 'wiki_enabled',\n",
       " 'wls']"
      ]
     },
     "metadata": {},
     "execution_count": 81
    }
   ],
   "source": [
    "dir(h3h3)"
   ]
  },
  {
   "cell_type": "code",
   "execution_count": 174,
   "metadata": {},
   "outputs": [],
   "source": [
    "res = requests.get('https://api.pushshift.io/reddit/submission/search?subreddit=h3h3productions&is_reddit_media_domain=1&before=9h&after=900h&size=150')"
   ]
  },
  {
   "cell_type": "code",
   "execution_count": 175,
   "metadata": {},
   "outputs": [
    {
     "output_type": "execute_result",
     "data": {
      "text/plain": [
       "100"
      ]
     },
     "metadata": {},
     "execution_count": 175
    }
   ],
   "source": [
    "len(res.json()['data'])"
   ]
  },
  {
   "cell_type": "code",
   "execution_count": null,
   "metadata": {},
   "outputs": [],
   "source": [
    "def getpd(a, b, q=None):\n",
    "    url = f\"https://api.pushshift.io/reddit/submission/search?subreddit=h3h3productions&after={str(a)}h&before={str(b)}h&size=500{'&q='+str(q) if q else ''}\"\n",
    "    # print(url)\n",
    "    r = requests.get(url)\n",
    "    data = json.loads(r.text)\n",
    "    return data['data']"
   ]
  },
  {
   "cell_type": "code",
   "execution_count": 236,
   "metadata": {},
   "outputs": [],
   "source": [
    "def log(data):\n",
    "    print(f\"{len(data)}\")\n",
    "    for d in data:\n",
    "        if d['is_reddit_media_domain']:\n",
    "            print(d['title'], d['url'], d['thumbnail'], '\\n')"
   ]
  },
  {
   "cell_type": "code",
   "execution_count": 240,
   "metadata": {
    "tags": []
   },
   "outputs": [],
   "source": [
    "%%capture cap --no-stderr\n",
    "\n",
    "tim = 1\n",
    "nx = 10\n",
    "sr = \"\"\n",
    "while tim<4000:\n",
    "    while True:\n",
    "        # print(nx)\n",
    "        res = getpd(tim+nx, tim)\n",
    "        if len(res)==100:\n",
    "            nx = int(nx/2)\n",
    "        else:\n",
    "            tim += nx\n",
    "            if len(res)<25:\n",
    "                nx=nx*2\n",
    "            break\n",
    "    log(res)\n",
    "    # print(tim)"
   ]
  },
  {
   "cell_type": "code",
   "execution_count": 241,
   "metadata": {},
   "outputs": [],
   "source": [
    "with open('out.txt', 'w') as f:\n",
    "    f.write(cap.stdout)\n"
   ]
  },
  {
   "cell_type": "code",
   "execution_count": null,
   "metadata": {},
   "outputs": [],
   "source": []
  }
 ]
}